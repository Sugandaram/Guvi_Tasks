{
  "nbformat": 4,
  "nbformat_minor": 0,
  "metadata": {
    "colab": {
      "provenance": []
    },
    "kernelspec": {
      "name": "python3",
      "display_name": "Python 3"
    },
    "language_info": {
      "name": "python"
    }
  },
  "cells": [
    {
      "cell_type": "markdown",
      "source": [
        "# **Task-4**\n",
        "\n",
        "**Create a chatbot for Hotel Management to Book Rooms** \n",
        "\n",
        "Details collected from : Customer Name, Mobile Number, Address, ID proof, and Room Type and date of arrival and departure date. Keep some eligibility to Book the Room .All through voice to text classifications\n"
      ],
      "metadata": {
        "id": "SE-HDxAoSYVj"
      }
    },
    {
      "cell_type": "code",
      "source": [
        "from nltk.chat.util import Chat, reflections"
      ],
      "metadata": {
        "id": "CEhao48BSf2U"
      },
      "execution_count": 2,
      "outputs": []
    },
    {
      "cell_type": "code",
      "source": [
        "pairs = [\n",
        "    [\n",
        "        r\"(.*)my name is (.*)\",\n",
        "        [\"Hello %2, How are you today ?\",]\n",
        "    ],\n",
        "    [\n",
        "        r\"(.*)help(.*) \",\n",
        "        [\"I can help you \",]\n",
        "    ],\n",
        "     [\n",
        "        r\"(.*) your name ?\",\n",
        "        [\"My name is helpdesk, thanks for asking .\",]\n",
        "    ],\n",
        "    [\n",
        "        r\"how are you (.*) ?\",\n",
        "        [\"I'm doing very well\", \"I am great !\"]\n",
        "    ],\n",
        "    [\n",
        "        r\"sorry (.*)\",\n",
        "        [\"Its alright\",\"Its OK, never mind \",]\n",
        "    ],\n",
        "    [\n",
        "        r\"(hi|hey|hello|hola|holla)(.*)\",\n",
        "        [\"Hello\", \"Hey there\",]\n",
        "    ],\n",
        "  \n",
        "    [\n",
        "        r\"quit\",\n",
        "        [\"Bye for now. Have a great day :) \",\"It was nice talking to you. Take Care :)\"]\n",
        "    ],\n",
        "    [\n",
        "        r\"(.*)(help|book)(.*)\",\n",
        "        ['Kindly provide your Name, Mobile Number, Address, ID proof, and Room Type and date of arrival and departure date.']\n",
        "    ],\n",
        "    [\n",
        "        r\"(.*)(1|2|3|4|5|6|7)(.*)\",\n",
        "        ['Thanks for the information. You will be allocated room']\n",
        "    ],\n",
        "    [\n",
        "        r\"(.*)(available|availability|saturday|sunday)(.*)\",\n",
        "        ['Saturday and Sunday, rooms are not available']\n",
        "    ],\n",
        "    [\n",
        "        r\"(.*)(AC|non AC|room)(.*)\",\n",
        "        ['AC rooms are not available']\n",
        "    ],\n",
        "    [\n",
        "        r\"(.*)\",\n",
        "        ['Okay']\n",
        "    ],\n",
        "    \n",
        "]"
      ],
      "metadata": {
        "id": "ce0DNPK3BILL"
      },
      "execution_count": 3,
      "outputs": []
    },
    {
      "cell_type": "code",
      "source": [
        "# default message at the start of chat\n",
        "print(\"Hi, How can I help you today \\n\\nPlease type below to start a conversation. \\n\\nType quit to leave\\n\\n \")\n",
        "\n",
        "# Create Chat Bot\n",
        "chat = Chat(pairs, reflections)\n",
        "\n",
        "# Start conversation\n",
        "chat.converse()"
      ],
      "metadata": {
        "colab": {
          "base_uri": "https://localhost:8080/"
        },
        "id": "6xmklr3hBgAY",
        "outputId": "ca8c12df-4649-4a59-e16d-92ded857cf9d"
      },
      "execution_count": null,
      "outputs": [
        {
          "output_type": "stream",
          "name": "stdout",
          "text": [
            "Hi, How can I help you today \n",
            "\n",
            "Please type below to start a conversation. \n",
            "\n",
            "Type quit to leave\n",
            "\n",
            " \n"
          ]
        }
      ]
    },
    {
      "cell_type": "code",
      "source": [],
      "metadata": {
        "id": "AkgFS5maBkrq"
      },
      "execution_count": null,
      "outputs": []
    }
  ]
}