{
  "nbformat": 4,
  "nbformat_minor": 0,
  "metadata": {
    "colab": {
      "provenance": []
    },
    "kernelspec": {
      "name": "python3",
      "display_name": "Python 3"
    },
    "language_info": {
      "name": "python"
    }
  },
  "cells": [
    {
      "cell_type": "code",
      "execution_count": null,
      "metadata": {
        "id": "yrMd82r8F2N4"
      },
      "outputs": [],
      "source": []
    },
    {
      "cell_type": "markdown",
      "source": [
        "# **Task-2**\n",
        "**Create a program that needs to automatically correct that spelling from the word or a given sentence. (Language : English) **\n",
        "\n",
        "Note:  show 100 data point outputs both in words and sentence. \n"
      ],
      "metadata": {
        "id": "ge5f384fJtUl"
      }
    },
    {
      "cell_type": "code",
      "source": [
        "pip install pyspellchecker"
      ],
      "metadata": {
        "colab": {
          "base_uri": "https://localhost:8080/"
        },
        "id": "aJ6elC1qzUGz",
        "outputId": "eb987bea-8eca-4e7b-ec57-af5eede94b36"
      },
      "execution_count": null,
      "outputs": [
        {
          "output_type": "stream",
          "name": "stdout",
          "text": [
            "Looking in indexes: https://pypi.org/simple, https://us-python.pkg.dev/colab-wheels/public/simple/\n",
            "Requirement already satisfied: pyspellchecker in /usr/local/lib/python3.8/dist-packages (0.7.0)\n"
          ]
        }
      ]
    },
    {
      "cell_type": "code",
      "source": [
        "from spellchecker import SpellChecker\n",
        " \n",
        "specheck = SpellChecker()\n",
        "\n",
        "SCW = specheck.unknown(['abscence','accomodation','acheive','accross','agressive','apparantly','appearence',\n",
        "                        'Carribean','cemetary','collegue','dissapoint','curiousity','foward','goverment',\n",
        "                        'honourary','independant','interupt','neccessary','noticable','occassion','Phillipines',\n",
        "                        'politican','pronounciation','resistence','tommorrow','whereever','tounge','comming','completly',\n",
        "                        'adress', 'appearence', 'fourty', 'knowlege', 'lightening', 'mischievious', 'neccessary', 'calender',\n",
        "                        'definately', 'convinient', 'deterioreit', 'dissappear', 'arguement', 'Wensday', 'opertunity', 'lollypop',\n",
        "                        'noticable', 'priviledge', 'realy', 'unfortunatly', 'wether', 'minuscule', 'marshmallow', 'jewelry',\n",
        "                        'plagiarize', 'personnel', 'parliament', 'occasion'])\n",
        "\n",
        "for word in SCW:\n",
        "    print(specheck.correction(word))\n"
      ],
      "metadata": {
        "colab": {
          "base_uri": "https://localhost:8080/"
        },
        "id": "VhCKXYqBBlLb",
        "outputId": "d4f29a03-9ba4-4143-85ad-2f3ce65168ff"
      },
      "execution_count": null,
      "outputs": [
        {
          "output_type": "stream",
          "name": "stdout",
          "text": [
            "noticeable\n",
            "mischievous\n",
            "knowledge\n",
            "aggressive\n",
            "really\n",
            "honorary\n",
            "college\n",
            "None\n",
            "fourth\n",
            "unfortunately\n",
            "forward\n",
            "caribbean\n",
            "occasion\n",
            "argument\n",
            "wherever\n",
            "curiosity\n",
            "cemetery\n",
            "privilege\n",
            "political\n",
            "achieve\n",
            "tomorrow\n",
            "across\n",
            "pronunciation\n",
            "definitely\n",
            "philippines\n",
            "interrupt\n",
            "opportunity\n",
            "lounge\n",
            "apparently\n",
            "government\n",
            "accommodation\n",
            "absence\n",
            "disappear\n",
            "independent\n",
            "resistance\n",
            "wendy\n",
            "coming\n",
            "convenient\n",
            "dress\n",
            "necessary\n",
            "appearance\n"
          ]
        }
      ]
    },
    {
      "cell_type": "code",
      "source": [
        "!sudo apt-get install swig"
      ],
      "metadata": {
        "colab": {
          "base_uri": "https://localhost:8080/"
        },
        "id": "FgLdGQALEqeQ",
        "outputId": "e325787d-d547-490b-d593-5c4140a9eacb"
      },
      "execution_count": null,
      "outputs": [
        {
          "output_type": "stream",
          "name": "stdout",
          "text": [
            "Reading package lists... Done\n",
            "Building dependency tree       \n",
            "Reading state information... Done\n",
            "The following package was automatically installed and is no longer required:\n",
            "  libnvidia-common-460\n",
            "Use 'sudo apt autoremove' to remove it.\n",
            "The following additional packages will be installed:\n",
            "  swig3.0\n",
            "Suggested packages:\n",
            "  swig-doc swig-examples swig3.0-examples swig3.0-doc\n",
            "The following NEW packages will be installed:\n",
            "  swig swig3.0\n",
            "0 upgraded, 2 newly installed, 0 to remove and 11 not upgraded.\n",
            "Need to get 1,100 kB of archives.\n",
            "After this operation, 5,822 kB of additional disk space will be used.\n",
            "Get:1 http://archive.ubuntu.com/ubuntu bionic/universe amd64 swig3.0 amd64 3.0.12-1 [1,094 kB]\n",
            "Get:2 http://archive.ubuntu.com/ubuntu bionic/universe amd64 swig amd64 3.0.12-1 [6,460 B]\n",
            "Fetched 1,100 kB in 2s (458 kB/s)\n",
            "debconf: unable to initialize frontend: Dialog\n",
            "debconf: (No usable dialog-like program is installed, so the dialog based frontend cannot be used. at /usr/share/perl5/Debconf/FrontEnd/Dialog.pm line 76, <> line 2.)\n",
            "debconf: falling back to frontend: Readline\n",
            "debconf: unable to initialize frontend: Readline\n",
            "debconf: (This frontend requires a controlling tty.)\n",
            "debconf: falling back to frontend: Teletype\n",
            "dpkg-preconfigure: unable to re-open stdin: \n",
            "Selecting previously unselected package swig3.0.\n",
            "(Reading database ... 124013 files and directories currently installed.)\n",
            "Preparing to unpack .../swig3.0_3.0.12-1_amd64.deb ...\n",
            "Unpacking swig3.0 (3.0.12-1) ...\n",
            "Selecting previously unselected package swig.\n",
            "Preparing to unpack .../swig_3.0.12-1_amd64.deb ...\n",
            "Unpacking swig (3.0.12-1) ...\n",
            "Setting up swig3.0 (3.0.12-1) ...\n",
            "Setting up swig (3.0.12-1) ...\n",
            "Processing triggers for man-db (2.8.3-2ubuntu0.1) ...\n"
          ]
        }
      ]
    },
    {
      "cell_type": "code",
      "source": [
        "!sudo pip install jamspell\n"
      ],
      "metadata": {
        "colab": {
          "base_uri": "https://localhost:8080/"
        },
        "id": "6ZWdy8vtjtGf",
        "outputId": "97f0b144-2cb4-4323-e4f7-765d285ca530"
      },
      "execution_count": null,
      "outputs": [
        {
          "output_type": "stream",
          "name": "stdout",
          "text": [
            "Looking in indexes: https://pypi.org/simple, https://us-python.pkg.dev/colab-wheels/public/simple/\n",
            "Collecting jamspell\n",
            "  Using cached jamspell-0.0.12.tar.gz (174 kB)\n",
            "Building wheels for collected packages: jamspell\n",
            "  Building wheel for jamspell (setup.py) ... \u001b[?25l\u001b[?25hdone\n",
            "  Created wheel for jamspell: filename=jamspell-0.0.12-cp38-cp38-linux_x86_64.whl size=1345853 sha256=d6383ae55d14d62a8e705c10323d14551234e7e48f5cf99c8ad7968345f0319d\n",
            "  Stored in directory: /root/.cache/pip/wheels/a0/0e/d3/b645dfed8ed118ee3adad4eb61787ad0e558369f4728ea5a8b\n",
            "Successfully built jamspell\n",
            "Installing collected packages: jamspell\n",
            "Successfully installed jamspell-0.0.12\n"
          ]
        }
      ]
    },
    {
      "cell_type": "code",
      "source": [
        "!wget https://github.com/bakwc/JamSpell-models/raw/master/en.tar.gz\n"
      ],
      "metadata": {
        "colab": {
          "base_uri": "https://localhost:8080/"
        },
        "id": "bHmKuK11j8vx",
        "outputId": "a8a6e4d8-6f5d-4fa4-ec5c-8acb395f8a16"
      },
      "execution_count": null,
      "outputs": [
        {
          "output_type": "stream",
          "name": "stdout",
          "text": [
            "--2022-12-09 06:25:56--  https://github.com/bakwc/JamSpell-models/raw/master/en.tar.gz\n",
            "Resolving github.com (github.com)... 20.27.177.113\n",
            "Connecting to github.com (github.com)|20.27.177.113|:443... connected.\n",
            "HTTP request sent, awaiting response... 302 Found\n",
            "Location: https://raw.githubusercontent.com/bakwc/JamSpell-models/master/en.tar.gz [following]\n",
            "--2022-12-09 06:25:56--  https://raw.githubusercontent.com/bakwc/JamSpell-models/master/en.tar.gz\n",
            "Resolving raw.githubusercontent.com (raw.githubusercontent.com)... 185.199.108.133, 185.199.109.133, 185.199.110.133, ...\n",
            "Connecting to raw.githubusercontent.com (raw.githubusercontent.com)|185.199.108.133|:443... connected.\n",
            "HTTP request sent, awaiting response... 200 OK\n",
            "Length: 36611828 (35M) [application/octet-stream]\n",
            "Saving to: ‘en.tar.gz’\n",
            "\n",
            "en.tar.gz           100%[===================>]  34.92M   149MB/s    in 0.2s    \n",
            "\n",
            "2022-12-09 06:25:59 (149 MB/s) - ‘en.tar.gz’ saved [36611828/36611828]\n",
            "\n"
          ]
        }
      ]
    },
    {
      "cell_type": "code",
      "source": [
        "!tar -xvf en.tar.gz\n",
        "     "
      ],
      "metadata": {
        "colab": {
          "base_uri": "https://localhost:8080/"
        },
        "id": "XMH65AvKkCxI",
        "outputId": "bcec3576-b7ae-411f-a60b-0b86ca0974fa"
      },
      "execution_count": null,
      "outputs": [
        {
          "output_type": "stream",
          "name": "stdout",
          "text": [
            "en.bin\n"
          ]
        }
      ]
    },
    {
      "cell_type": "code",
      "source": [
        "import jamspell\n",
        "\n",
        "corrector = jamspell.TSpellCorrector()\n",
        "corrector.LoadLangModel('en.bin')\n",
        "\n",
        "corrector.FixFragment('I am the begt spell cherken!')\n",
        "# u'I am the best spell checker!'\n",
        "\n",
        "corrector.GetCandidates(['i', 'am', 'the', 'begt', 'spell', 'cherken'], 3)\n",
        "# (u'best', u'beat', u'belt', u'bet', u'bent', ... )\n",
        "\n",
        "corrector.GetCandidates(['i', 'am', 'the', 'begt', 'spell', 'cherken'], 5)\n",
        "# (u'checker', u'chicken', u'checked', u'wherein', u'coherent', ...)"
      ],
      "metadata": {
        "colab": {
          "base_uri": "https://localhost:8080/"
        },
        "id": "8QH0q9sZHJFn",
        "outputId": "826825cc-e2bb-4624-e9f5-c4d19681967c"
      },
      "execution_count": null,
      "outputs": [
        {
          "output_type": "execute_result",
          "data": {
            "text/plain": [
              "('checker',\n",
              " 'chicken',\n",
              " 'checked',\n",
              " 'wherein',\n",
              " 'coherent',\n",
              " 'cheered',\n",
              " 'cherokee',\n",
              " 'chevron',\n",
              " 'chechen',\n",
              " 'therein',\n",
              " 'herein',\n",
              " 'chernow',\n",
              " 'cherken',\n",
              " 'harkens',\n",
              " 'churkin')"
            ]
          },
          "metadata": {},
          "execution_count": 9
        }
      ]
    },
    {
      "cell_type": "code",
      "source": [
        "# Load Language model\n",
        "jsp = jamspell.TSpellCorrector()\n",
        "assert jsp.LoadLangModel('en.bin')\n",
        " \n",
        "# To fix text automatically run FixFragment:\n",
        "print(jsp.FixFragment(\"Joe waiteed for tha traiin.\"))\n",
        "print(jsp.FixFragment(\"The trainn wes late.\"))\n",
        "print(jsp.FixFragment(\"Mary and Samantha taok the bus.\"))\n",
        "print(jsp.FixFragment(\"I looked for Mary and Samantha at the bus statio\"))\n",
        "print(jsp.FixFragment(\"Mary and Samantha arrived at the bus station early but wated until noon for the bus\"))\n",
        "print(jsp.FixFragment(\"Does he pley tenins?\"))\n",
        "print(jsp.FixFragment(\"I lova my new pets\"))\n",
        "print(jsp.FixFragment(\"Mary enjoyz cookings\"))\n",
        "print(jsp.FixFragment(\"She likes bannana\"))\n",
        "print(jsp.FixFragment(\"Tomorrow early morning first i go to marneng wlak\"))\n",
        "print(jsp.FixFragment(\"Does she dirnk cofee\"))\n",
        "print(jsp.FixFragment(\"You run to the paryt\"))\n",
        "print(jsp.FixFragment(\"The train leaves in ten miutes\"))\n",
        "print(jsp.FixFragment(\"Do pgis liek mlik\"))\n",
        "print(jsp.FixFragment(\"Califonria is in Amercia\"))\n",
        "print(jsp.FixFragment(\"I run four mlies every morning\"))\n",
        "print(jsp.FixFragment(\"He drivse to wokrs\"))\n"
      ],
      "metadata": {
        "colab": {
          "base_uri": "https://localhost:8080/"
        },
        "id": "b5x0SGC3gLo1",
        "outputId": "a1d9ff9c-3e01-464b-8754-bf9ba6a3fa56"
      },
      "execution_count": null,
      "outputs": [
        {
          "output_type": "stream",
          "name": "stdout",
          "text": [
            "Joe waited for the train.\n",
            "The train was late.\n",
            "Mary and Samantha took the bus.\n",
            "I looked for Mary and Samantha at the bus station\n",
            "Mary and Samantha arrived at the bus station early but wanted until noon for the bus\n",
            "Does he play tennis?\n",
            "I love my new pets\n",
            "Mary enjoy cooking\n",
            "She likes banana\n",
            "Tomorrow early morning first i go to morning walk\n",
            "Does she drink coffee\n",
            "You run to the party\n",
            "The train leaves in ten minutes\n",
            "Do pigs like milk\n",
            "California is in America\n",
            "I run four miles every morning\n",
            "He drives to works\n"
          ]
        }
      ]
    },
    {
      "cell_type": "code",
      "source": [
        "pip install gingerit\n"
      ],
      "metadata": {
        "colab": {
          "base_uri": "https://localhost:8080/"
        },
        "id": "cL-AQRHfkuU9",
        "outputId": "fcac031e-4f2c-424c-f4d5-7de7bd9f0736"
      },
      "execution_count": null,
      "outputs": [
        {
          "output_type": "stream",
          "name": "stdout",
          "text": [
            "Looking in indexes: https://pypi.org/simple, https://us-python.pkg.dev/colab-wheels/public/simple/\n",
            "Collecting gingerit\n",
            "  Downloading gingerit-0.8.2-py3-none-any.whl (3.3 kB)\n",
            "Collecting requests<3.0.0,>=2.25.1\n",
            "  Downloading requests-2.28.1-py3-none-any.whl (62 kB)\n",
            "\u001b[K     |████████████████████████████████| 62 kB 1.2 MB/s \n",
            "\u001b[?25hRequirement already satisfied: idna<4,>=2.5 in /usr/local/lib/python3.8/dist-packages (from requests<3.0.0,>=2.25.1->gingerit) (2.10)\n",
            "Requirement already satisfied: certifi>=2017.4.17 in /usr/local/lib/python3.8/dist-packages (from requests<3.0.0,>=2.25.1->gingerit) (2022.9.24)\n",
            "Requirement already satisfied: charset-normalizer<3,>=2 in /usr/local/lib/python3.8/dist-packages (from requests<3.0.0,>=2.25.1->gingerit) (2.1.1)\n",
            "Requirement already satisfied: urllib3<1.27,>=1.21.1 in /usr/local/lib/python3.8/dist-packages (from requests<3.0.0,>=2.25.1->gingerit) (1.24.3)\n",
            "Installing collected packages: requests, gingerit\n",
            "  Attempting uninstall: requests\n",
            "    Found existing installation: requests 2.23.0\n",
            "    Uninstalling requests-2.23.0:\n",
            "      Successfully uninstalled requests-2.23.0\n",
            "Successfully installed gingerit-0.8.2 requests-2.28.1\n"
          ]
        }
      ]
    },
    {
      "cell_type": "code",
      "source": [
        "pip install streamlit\n"
      ],
      "metadata": {
        "colab": {
          "base_uri": "https://localhost:8080/"
        },
        "id": "3ZDSKiOI4PlI",
        "outputId": "3c964ddf-2c14-44ad-e269-f9aad638578b"
      },
      "execution_count": null,
      "outputs": [
        {
          "output_type": "stream",
          "name": "stdout",
          "text": [
            "Looking in indexes: https://pypi.org/simple, https://us-python.pkg.dev/colab-wheels/public/simple/\n",
            "Collecting streamlit\n",
            "  Downloading streamlit-1.15.2-py2.py3-none-any.whl (9.2 MB)\n",
            "\u001b[K     |████████████████████████████████| 9.2 MB 4.2 MB/s \n",
            "\u001b[?25hCollecting rich>=10.11.0\n",
            "  Downloading rich-12.6.0-py3-none-any.whl (237 kB)\n",
            "\u001b[K     |████████████████████████████████| 237 kB 59.2 MB/s \n",
            "\u001b[?25hRequirement already satisfied: importlib-metadata>=1.4 in /usr/local/lib/python3.8/dist-packages (from streamlit) (4.13.0)\n",
            "Requirement already satisfied: typing-extensions>=3.10.0.0 in /usr/local/lib/python3.8/dist-packages (from streamlit) (4.4.0)\n",
            "Collecting blinker>=1.0.0\n",
            "  Downloading blinker-1.5-py2.py3-none-any.whl (12 kB)\n",
            "Requirement already satisfied: tzlocal>=1.1 in /usr/local/lib/python3.8/dist-packages (from streamlit) (1.5.1)\n",
            "Requirement already satisfied: click>=7.0 in /usr/local/lib/python3.8/dist-packages (from streamlit) (7.1.2)\n",
            "Requirement already satisfied: pandas>=0.21.0 in /usr/local/lib/python3.8/dist-packages (from streamlit) (1.3.5)\n",
            "Requirement already satisfied: pyarrow>=4.0 in /usr/local/lib/python3.8/dist-packages (from streamlit) (9.0.0)\n",
            "Collecting watchdog\n",
            "  Downloading watchdog-2.2.0-py3-none-manylinux2014_x86_64.whl (78 kB)\n",
            "\u001b[K     |████████████████████████████████| 78 kB 8.8 MB/s \n",
            "\u001b[?25hCollecting pydeck>=0.1.dev5\n",
            "  Downloading pydeck-0.8.0-py2.py3-none-any.whl (4.7 MB)\n",
            "\u001b[K     |████████████████████████████████| 4.7 MB 44.4 MB/s \n",
            "\u001b[?25hRequirement already satisfied: tornado>=5.0 in /usr/local/lib/python3.8/dist-packages (from streamlit) (6.0.4)\n",
            "Requirement already satisfied: toml in /usr/local/lib/python3.8/dist-packages (from streamlit) (0.10.2)\n",
            "Requirement already satisfied: numpy in /usr/local/lib/python3.8/dist-packages (from streamlit) (1.21.6)\n",
            "Requirement already satisfied: cachetools>=4.0 in /usr/local/lib/python3.8/dist-packages (from streamlit) (5.2.0)\n",
            "Requirement already satisfied: pillow>=6.2.0 in /usr/local/lib/python3.8/dist-packages (from streamlit) (7.1.2)\n",
            "Requirement already satisfied: python-dateutil in /usr/local/lib/python3.8/dist-packages (from streamlit) (2.8.2)\n",
            "Requirement already satisfied: packaging>=14.1 in /usr/local/lib/python3.8/dist-packages (from streamlit) (21.3)\n",
            "Collecting pympler>=0.9\n",
            "  Downloading Pympler-1.0.1-py3-none-any.whl (164 kB)\n",
            "\u001b[K     |████████████████████████████████| 164 kB 58.5 MB/s \n",
            "\u001b[?25hRequirement already satisfied: protobuf<4,>=3.12 in /usr/local/lib/python3.8/dist-packages (from streamlit) (3.19.6)\n",
            "Collecting validators>=0.2\n",
            "  Downloading validators-0.20.0.tar.gz (30 kB)\n",
            "Collecting gitpython!=3.1.19\n",
            "  Downloading GitPython-3.1.29-py3-none-any.whl (182 kB)\n",
            "\u001b[K     |████████████████████████████████| 182 kB 66.6 MB/s \n",
            "\u001b[?25hCollecting semver\n",
            "  Downloading semver-2.13.0-py2.py3-none-any.whl (12 kB)\n",
            "Requirement already satisfied: requests>=2.4 in /usr/local/lib/python3.8/dist-packages (from streamlit) (2.28.1)\n",
            "Requirement already satisfied: altair>=3.2.0 in /usr/local/lib/python3.8/dist-packages (from streamlit) (4.2.0)\n",
            "Requirement already satisfied: jinja2 in /usr/local/lib/python3.8/dist-packages (from altair>=3.2.0->streamlit) (2.11.3)\n",
            "Requirement already satisfied: toolz in /usr/local/lib/python3.8/dist-packages (from altair>=3.2.0->streamlit) (0.12.0)\n",
            "Requirement already satisfied: jsonschema>=3.0 in /usr/local/lib/python3.8/dist-packages (from altair>=3.2.0->streamlit) (4.3.3)\n",
            "Requirement already satisfied: entrypoints in /usr/local/lib/python3.8/dist-packages (from altair>=3.2.0->streamlit) (0.4)\n",
            "Collecting gitdb<5,>=4.0.1\n",
            "  Downloading gitdb-4.0.10-py3-none-any.whl (62 kB)\n",
            "\u001b[K     |████████████████████████████████| 62 kB 1.4 MB/s \n",
            "\u001b[?25hCollecting smmap<6,>=3.0.1\n",
            "  Downloading smmap-5.0.0-py3-none-any.whl (24 kB)\n",
            "Requirement already satisfied: zipp>=0.5 in /usr/local/lib/python3.8/dist-packages (from importlib-metadata>=1.4->streamlit) (3.11.0)\n",
            "Requirement already satisfied: attrs>=17.4.0 in /usr/local/lib/python3.8/dist-packages (from jsonschema>=3.0->altair>=3.2.0->streamlit) (22.1.0)\n",
            "Requirement already satisfied: importlib-resources>=1.4.0 in /usr/local/lib/python3.8/dist-packages (from jsonschema>=3.0->altair>=3.2.0->streamlit) (5.10.0)\n",
            "Requirement already satisfied: pyrsistent!=0.17.0,!=0.17.1,!=0.17.2,>=0.14.0 in /usr/local/lib/python3.8/dist-packages (from jsonschema>=3.0->altair>=3.2.0->streamlit) (0.19.2)\n",
            "Requirement already satisfied: pyparsing!=3.0.5,>=2.0.2 in /usr/local/lib/python3.8/dist-packages (from packaging>=14.1->streamlit) (3.0.9)\n",
            "Requirement already satisfied: pytz>=2017.3 in /usr/local/lib/python3.8/dist-packages (from pandas>=0.21.0->streamlit) (2022.6)\n",
            "Requirement already satisfied: MarkupSafe>=0.23 in /usr/local/lib/python3.8/dist-packages (from jinja2->altair>=3.2.0->streamlit) (2.0.1)\n",
            "Requirement already satisfied: six>=1.5 in /usr/local/lib/python3.8/dist-packages (from python-dateutil->streamlit) (1.15.0)\n",
            "Requirement already satisfied: charset-normalizer<3,>=2 in /usr/local/lib/python3.8/dist-packages (from requests>=2.4->streamlit) (2.1.1)\n",
            "Requirement already satisfied: idna<4,>=2.5 in /usr/local/lib/python3.8/dist-packages (from requests>=2.4->streamlit) (2.10)\n",
            "Requirement already satisfied: certifi>=2017.4.17 in /usr/local/lib/python3.8/dist-packages (from requests>=2.4->streamlit) (2022.9.24)\n",
            "Requirement already satisfied: urllib3<1.27,>=1.21.1 in /usr/local/lib/python3.8/dist-packages (from requests>=2.4->streamlit) (1.24.3)\n",
            "Collecting commonmark<0.10.0,>=0.9.0\n",
            "  Downloading commonmark-0.9.1-py2.py3-none-any.whl (51 kB)\n",
            "\u001b[K     |████████████████████████████████| 51 kB 7.6 MB/s \n",
            "\u001b[?25hRequirement already satisfied: pygments<3.0.0,>=2.6.0 in /usr/local/lib/python3.8/dist-packages (from rich>=10.11.0->streamlit) (2.6.1)\n",
            "Requirement already satisfied: decorator>=3.4.0 in /usr/local/lib/python3.8/dist-packages (from validators>=0.2->streamlit) (4.4.2)\n",
            "Building wheels for collected packages: validators\n",
            "  Building wheel for validators (setup.py) ... \u001b[?25l\u001b[?25hdone\n",
            "  Created wheel for validators: filename=validators-0.20.0-py3-none-any.whl size=19581 sha256=ea3df53577890d320028e6b5db663856f3f674734f4ea071298a02455a6b3533\n",
            "  Stored in directory: /root/.cache/pip/wheels/19/09/72/3eb74d236bb48bd0f3c6c3c83e4e0c5bbfcbcad7c6c3539db8\n",
            "Successfully built validators\n",
            "Installing collected packages: smmap, gitdb, commonmark, watchdog, validators, semver, rich, pympler, pydeck, gitpython, blinker, streamlit\n",
            "Successfully installed blinker-1.5 commonmark-0.9.1 gitdb-4.0.10 gitpython-3.1.29 pydeck-0.8.0 pympler-1.0.1 rich-12.6.0 semver-2.13.0 smmap-5.0.0 streamlit-1.15.2 validators-0.20.0 watchdog-2.2.0\n"
          ]
        }
      ]
    },
    {
      "cell_type": "code",
      "source": [
        "pip install cloudscraper"
      ],
      "metadata": {
        "colab": {
          "base_uri": "https://localhost:8080/"
        },
        "id": "V-qtDgYe7qdq",
        "outputId": "9ceaf98b-bb71-46e0-9448-0baf9a277049"
      },
      "execution_count": null,
      "outputs": [
        {
          "output_type": "stream",
          "name": "stdout",
          "text": [
            "Looking in indexes: https://pypi.org/simple, https://us-python.pkg.dev/colab-wheels/public/simple/\n",
            "Collecting cloudscraper\n",
            "  Downloading cloudscraper-1.2.66-py2.py3-none-any.whl (98 kB)\n",
            "\u001b[K     |████████████████████████████████| 98 kB 3.3 MB/s \n",
            "\u001b[?25hRequirement already satisfied: requests>=2.9.2 in /usr/local/lib/python3.8/dist-packages (from cloudscraper) (2.28.1)\n",
            "Requirement already satisfied: pyparsing>=2.4.7 in /usr/local/lib/python3.8/dist-packages (from cloudscraper) (3.0.9)\n",
            "Collecting requests-toolbelt>=0.9.1\n",
            "  Downloading requests_toolbelt-0.10.1-py2.py3-none-any.whl (54 kB)\n",
            "\u001b[K     |████████████████████████████████| 54 kB 2.8 MB/s \n",
            "\u001b[?25hRequirement already satisfied: urllib3<1.27,>=1.21.1 in /usr/local/lib/python3.8/dist-packages (from requests>=2.9.2->cloudscraper) (1.24.3)\n",
            "Requirement already satisfied: certifi>=2017.4.17 in /usr/local/lib/python3.8/dist-packages (from requests>=2.9.2->cloudscraper) (2022.9.24)\n",
            "Requirement already satisfied: charset-normalizer<3,>=2 in /usr/local/lib/python3.8/dist-packages (from requests>=2.9.2->cloudscraper) (2.1.1)\n",
            "Requirement already satisfied: idna<4,>=2.5 in /usr/local/lib/python3.8/dist-packages (from requests>=2.9.2->cloudscraper) (2.10)\n",
            "Installing collected packages: requests-toolbelt, cloudscraper\n",
            "Successfully installed cloudscraper-1.2.66 requests-toolbelt-0.10.1\n"
          ]
        }
      ]
    },
    {
      "cell_type": "code",
      "source": [
        "import cloudscraper\n",
        "\n",
        "URL = \"https://services.gingersoftware.com/Ginger/correct/jsonSecured/GingerTheTextFull\"  # noqa\n",
        "API_KEY = \"6ae0c3a0-afdc-4532-a810-82ded0054236\"\n",
        "\n",
        "\n",
        "class GingerIt(object):\n",
        "    def __init__(self):\n",
        "        self.url = URL\n",
        "        self.api_key = API_KEY\n",
        "        self.api_version = \"2.0\"\n",
        "        self.lang = \"US\"\n",
        "\n",
        "    def parse(self, text, verify=True):\n",
        "        session = cloudscraper.create_scraper()\n",
        "        request = session.get(\n",
        "            self.url,\n",
        "            params={\n",
        "                \"lang\": self.lang,\n",
        "                \"apiKey\": self.api_key,\n",
        "                \"clientVersion\": self.api_version,\n",
        "                \"text\": text,\n",
        "            },\n",
        "            verify=verify,\n",
        "        )\n",
        "        data = request.json()\n",
        "        return self._process_data(text, data)\n",
        "\n",
        "    @staticmethod\n",
        "    def _change_char(original_text, from_position, to_position, change_with):\n",
        "        return \"{}{}{}\".format(\n",
        "            original_text[:from_position], change_with, original_text[to_position + 1 :]\n",
        "        )\n",
        "\n",
        "    def _process_data(self, text, data):\n",
        "        result = text\n",
        "        corrections = []\n",
        "\n",
        "        for suggestion in reversed(data[\"Corrections\"]):\n",
        "            start = suggestion[\"From\"]\n",
        "            end = suggestion[\"To\"]\n",
        "\n",
        "            if suggestion[\"Suggestions\"]:\n",
        "                suggest = suggestion[\"Suggestions\"][0]\n",
        "                result = self._change_char(result, start, end, suggest[\"Text\"])\n",
        "\n",
        "                corrections.append(\n",
        "                    {\n",
        "                        \"start\": start,\n",
        "                        \"text\": text[start : end + 1],\n",
        "                        \"correct\": suggest.get(\"Text\", None),\n",
        "                        \"definition\": suggest.get(\"Definition\", None),\n",
        "                    }\n",
        "                )\n",
        "\n",
        "        return {\"text\": text, \"result\": result, \"corrections\": corrections}"
      ],
      "metadata": {
        "id": "KyZRyIyz55t8"
      },
      "execution_count": null,
      "outputs": []
    },
    {
      "cell_type": "code",
      "source": [
        "from gingerit.gingerit import GingerIt\n",
        "import streamlit as st"
      ],
      "metadata": {
        "id": "M0yCHzaT3yTL"
      },
      "execution_count": null,
      "outputs": []
    },
    {
      "cell_type": "code",
      "source": [],
      "metadata": {
        "id": "NdtCeYsx54S_"
      },
      "execution_count": null,
      "outputs": []
    },
    {
      "cell_type": "code",
      "source": [
        "parser = GingerIt()\n",
        "\n",
        "text = \"This sentence contains a cuple of grammatical mistakes\"\n",
        "parser.parse(text)\n"
      ],
      "metadata": {
        "colab": {
          "base_uri": "https://localhost:8080/"
        },
        "id": "6eSi08FV4Hht",
        "outputId": "34c716eb-f2df-4d1d-e0d5-ec81e1bbbbb9"
      },
      "execution_count": null,
      "outputs": [
        {
          "output_type": "execute_result",
          "data": {
            "text/plain": [
              "{'text': 'This sentence contains a cuple of grammatical mistakes',\n",
              " 'result': 'This sentence contains a couple of grammatical mistakes',\n",
              " 'corrections': [{'start': 25,\n",
              "   'text': 'cuple',\n",
              "   'correct': 'couple',\n",
              "   'definition': 'a pair who associate with one another'}]}"
            ]
          },
          "metadata": {},
          "execution_count": 54
        }
      ]
    },
    {
      "cell_type": "code",
      "source": [
        "parser = GingerIt()\n",
        "\n",
        "text = input (\"Enter the text \")\n",
        "\n",
        "ct = parser.parse(text)\n",
        "\n",
        "print(\"The corrected text is: \" ,ct[\"result\"])\n"
      ],
      "metadata": {
        "colab": {
          "base_uri": "https://localhost:8080/"
        },
        "id": "XmHD9r4L4vRR",
        "outputId": "548fbd7d-2fe0-4ec5-b258-0715943e2476"
      },
      "execution_count": null,
      "outputs": [
        {
          "output_type": "stream",
          "name": "stdout",
          "text": [
            "Enter the text Don't step in the grass.\n",
            "The corrected text is:  Don't step on the grass.\n"
          ]
        }
      ]
    },
    {
      "cell_type": "code",
      "source": [],
      "metadata": {
        "id": "R9D-bLzz8vOq"
      },
      "execution_count": null,
      "outputs": []
    }
  ]
}